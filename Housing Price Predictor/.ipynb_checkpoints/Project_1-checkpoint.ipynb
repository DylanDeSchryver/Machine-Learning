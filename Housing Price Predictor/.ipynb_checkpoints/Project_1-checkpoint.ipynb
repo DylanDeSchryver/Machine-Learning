{
 "cells": [
  {
   "cell_type": "code",
   "execution_count": null,
   "metadata": {
    "_cell_guid": "b1076dfc-b9ad-4769-8c92-a6c4dae69d19",
    "_uuid": "8f2839f25d086af736a60e9eeb907d3b93b6e0e5",
    "scrolled": true
   },
   "outputs": [],
   "source": []
  },
  {
   "cell_type": "markdown",
   "metadata": {
    "jp-MarkdownHeadingCollapsed": true
   },
   "source": [
    "# 1. Frame the problem\n",
    "As the contractor, I must develop an AI model that can accurately predict housing prices within in the LA area using attributes of the property."
   ]
  },
  {
   "cell_type": "markdown",
   "metadata": {},
   "source": [
    "Use different ML models to predict the survivability chances for a passenger."
   ]
  },
  {
   "cell_type": "markdown",
   "metadata": {},
   "source": [
    "# 2. Get the Data \n",
    "I will be scraping a website like RedFin in order to create my own data set of LA houses."
   ]
  },
  {
   "cell_type": "code",
   "execution_count": null,
   "metadata": {},
   "outputs": [],
   "source": []
  },
  {
   "cell_type": "markdown",
   "metadata": {},
   "source": [
    "# 3. Explore the Data\n",
    "Gain insights into the data you have from step 2, making sure to identify any bias"
   ]
  },
  {
   "cell_type": "markdown",
   "metadata": {},
   "source": [
    "It appears that sex has the largest tell for survivability, females being 75% and amle only being ~20%\n",
    "Passenger class and age are close seconds with about ~63% for first class (gets lower as class decreases) and 60% for ages 10 and under.\n",
    "The apparent bias is that Women, children, and wealthy passengers were prioritized."
   ]
  },
  {
   "cell_type": "markdown",
   "metadata": {},
   "source": [
    "# 4.Prepare the Data\n",
    "\n",
    "\n",
    "Apply any data transformations and explain what and why\n"
   ]
  },
  {
   "cell_type": "markdown",
   "metadata": {},
   "source": [
    "Filled in missing values for age, embarked, and fare using median, mode, and median respectively. This was because the model can only work with numbers.\n",
    "Converted sex to numbers (male =0, f =1)\n",
    "\n",
    "When i was doing research on the problem, i found that family size had a great effect, so I learned how to make a derived variable for familiy size and \n",
    "if thjey were alone or not.\n",
    "\n",
    "Also created a Title variable to get iunformation that may be missing in the table such as if the person is married, or their estimated age.\n",
    "\n",
    "Removed uselesss features like Cabin (too many missing), Name(useless....), and Ticket(formatting was different among the values so i couldnt use it)."
   ]
  },
  {
   "cell_type": "markdown",
   "metadata": {},
   "source": [
    "# 5. Model the data\n",
    "Using selected ML models, experment with your choices and describe your findings. Finish by selecting a Model to continue with\n"
   ]
  },
  {
   "cell_type": "markdown",
   "metadata": {},
   "source": [
    "Didnt even try linear regression as there are too many features. \n",
    "\n",
    "Tried logistic regression in vscode. Got a 80% accuracy, but after doing more research i found that people had sucess with random forests, \n",
    "so I stuck with that."
   ]
  },
  {
   "cell_type": "markdown",
   "metadata": {},
   "source": [
    "# 6. Fine Tune the Model\n",
    "\n",
    "With the select model descibe the steps taken to acheve the best rusults possiable \n"
   ]
  },
  {
   "cell_type": "markdown",
   "metadata": {},
   "source": [
    "when I began i started with only 50 tress, but i realized that was too few and it was overfitting the model, so I bumped it up to 400 trees and things were fine.\n",
    "I asked chatgpt about it and it explained that with the amount of rows in the data, 200 trees was sufficient, so i stuck with that.\n",
    "\n",
    "I read that with less than 5k rows, the max depth should be 5-10, so i just chose 7 and stuck with it.\n",
    "\n",
    "I just started at 1 for the random state and started playing with it and hit 45 as the highest percentage of 82 and stuck with it, but really it doesnt\n",
    "matter, its just something used to ensure the data is reproducible."
   ]
  },
  {
   "cell_type": "markdown",
   "metadata": {},
   "source": [
    "# 7. Present\n",
    "In a customer faceing Document provide summery of finding and detail approach taken\n"
   ]
  },
  {
   "cell_type": "markdown",
   "metadata": {},
   "source": [
    "Summary of Findings and Approach\n",
    "We analyzed passenger survivability on the titanic using a dataset provided from Kaggle. Our analysis aimed to identify which factors most influenced survival and to develop a predictive model. From the data:\n",
    "Sex is the strongest predictor: Females had a roughly 75% survival rate, while males were around 20%.\n",
    "\n",
    "\n",
    "Passenger class and age are also significant: First-class passengers had a survival rate of ~63%, decreasing with lower classes, and children aged 10 and under had about a 60% chance of survival.\n",
    "\n",
    "\n",
    "Bias in survival: The data reflects historical prioritization of women, children, and wealthier passengers.\n",
    "\n",
    "\n",
    "Cleaning the data:\n",
    "Missing values were filled in\n",
    "Categorical variables were converted\n",
    "New features were created, like family size and title.\n",
    "Useless features were removed\n",
    "\n",
    "\n",
    "For modeling:\n",
    "Initial testing with logistic regression had 80% accuracy.\n",
    "Moved to Random Forest model\n",
    "Model optimization:\n",
    "\n",
    "\n",
    "Number of trees: Increased from 50 (overfitting) to 200.\n",
    "\n",
    "\n",
    "Max depth: Set to 7, as it is a small dataset\n",
    "Set a random state to make sure the results are reproduced\n",
    "Outcome: The Random Forest model gave an accuracy of approximately 82%. Therefore, it can be reliably used to predict whether a passenger will survive or not, given a new set of data..\n"
   ]
  },
  {
   "cell_type": "markdown",
   "metadata": {},
   "source": [
    "# 8. Launch the Model System\n",
    "Define your production run code, This should be self susficent and require only your model pramaters \n"
   ]
  },
  {
   "cell_type": "code",
   "execution_count": 1,
   "metadata": {},
   "outputs": [],
   "source": [
    "def inference(params):\n",
    "    params = params.reindex(columns=X.columns, fill_value=0)\n",
    "    results = model.predict(params)\n",
    "    return results"
   ]
  },
  {
   "cell_type": "code",
   "execution_count": null,
   "metadata": {},
   "outputs": [],
   "source": []
  },
  {
   "cell_type": "code",
   "execution_count": null,
   "metadata": {},
   "outputs": [],
   "source": []
  },
  {
   "cell_type": "code",
   "execution_count": null,
   "metadata": {},
   "outputs": [],
   "source": []
  }
 ],
 "metadata": {
  "kernelspec": {
   "display_name": "Python 3 (ipykernel)",
   "language": "python",
   "name": "python3"
  },
  "language_info": {
   "codemirror_mode": {
    "name": "ipython",
    "version": 3
   },
   "file_extension": ".py",
   "mimetype": "text/x-python",
   "name": "python",
   "nbconvert_exporter": "python",
   "pygments_lexer": "ipython3",
   "version": "3.10.10"
  },
  "toc-autonumbering": false,
  "toc-showmarkdowntxt": false
 },
 "nbformat": 4,
 "nbformat_minor": 4
}
