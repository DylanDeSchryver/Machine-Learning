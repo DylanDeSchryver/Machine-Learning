{
 "cells": [
  {
   "cell_type": "code",
   "execution_count": null,
   "metadata": {
    "_cell_guid": "b1076dfc-b9ad-4769-8c92-a6c4dae69d19",
    "_uuid": "8f2839f25d086af736a60e9eeb907d3b93b6e0e5",
    "scrolled": true
   },
   "outputs": [],
   "source": []
  },
  {
   "cell_type": "markdown",
   "metadata": {
    "jp-MarkdownHeadingCollapsed": true
   },
   "source": [
    "# 1. Frame the problem\n",
    "As the contractor, I must develop an AI model that can accurately predict housing prices within in the LA area using attributes of the property."
   ]
  },
  {
   "cell_type": "markdown",
   "metadata": {},
   "source": [
    "Use different ML models to predict the survivability chances for a passenger."
   ]
  },
  {
   "cell_type": "markdown",
   "metadata": {},
   "source": [
    "# 2. Get the Data \n",
    "I will be scraping a website like Zillow in order to create my own data set of LA houses."
   ]
  },
  {
   "cell_type": "code",
   "execution_count": 1,
   "metadata": {},
   "outputs": [
    {
     "name": "stdout",
     "output_type": "stream",
     "text": [
      "Number of properties: 10000\n",
      "                                        property_url property_id  listing_id  \\\n",
      "0  https://www.realtor.com/realestateandhomes-det...  2607151096  2979095050   \n",
      "1  https://www.realtor.com/realestateandhomes-det...  2878088683  2984745470   \n",
      "2  https://www.realtor.com/realestateandhomes-det...  1156263745  2978360091   \n",
      "3  https://www.realtor.com/realestateandhomes-det...  1208946416  2984232437   \n",
      "4  https://www.realtor.com/realestateandhomes-det...  2056100492  2984265638   \n",
      "\n",
      "                                           permalink   mls      mls_id status  \\\n",
      "0  22361-Burton-St_Canoga-Park_CA_91304_M26071-51096  WECA    25508161   SOLD   \n",
      "1         7935-Kyle-St_Sunland_CA_91040_M28780-88683  MRCA    P1-23436   SOLD   \n",
      "2  7827-S-Hobart-Blvd_Los-Angeles_CA_90047_M11562...  WECA    25498991   SOLD   \n",
      "3   658-W-120th-St_Los-Angeles_CA_90044_M12089-46416  MRCA  DW25153907   SOLD   \n",
      "4  3439-Keystone-Ave-Apt-3_Los-Angeles_CA_90034_M...  MRCA  SB25118546   SOLD   \n",
      "\n",
      "  mls_status                                               text  \\\n",
      "0       Sold  Cute 3 br 2 bath at end of cul-de-sac for priv...   \n",
      "1       Sold  Welcome to this beautifully updated 3-bedroom,...   \n",
      "2       Sold  FHA ELIGIBLE!!!! Priced to Sell.!! Sold as is....   \n",
      "3       Sold                                      0-1 Unit/Acre   \n",
      "4       Sold  Welcome to 3439 Keystone Avenue! Located in th...   \n",
      "\n",
      "           style  ... builder_id builder_name office_id    office_mls_set  \\\n",
      "0  SINGLE_FAMILY  ...       <NA>         <NA>      <NA>   O-WECA-X7898401   \n",
      "1  SINGLE_FAMILY  ...       <NA>         <NA>   2965438    O-MRCA-PF10458   \n",
      "2  SINGLE_FAMILY  ...       <NA>         <NA>      <NA>     O-WECA-X82739   \n",
      "3  SINGLE_FAMILY  ...       <NA>         <NA>   1036104       O-MRCA-YCYA   \n",
      "4         CONDOS  ...       <NA>         <NA>      <NA>  O-MRCA-SB1296120   \n",
      "\n",
      "                       office_name           office_email  \\\n",
      "0     eXp Realty of California Inc                   <NA>   \n",
      "1  Coldwell Banker Hallmark Realty  rickbonyadi@gmail.com   \n",
      "2                  Gaston Equities                   <NA>   \n",
      "3              CENTURY 21 Allstars   info@c21allstars.com   \n",
      "4                      BHAUS EIGHT  bianca@bhauseight.com   \n",
      "\n",
      "                                       office_phones  \\\n",
      "0  [{'number': '(310) 210-0008', 'type': 'Office'...   \n",
      "1  [{'number': '(818) 476-3000', 'type': 'Home', ...   \n",
      "2  [{'number': '(323) 836-8925', 'type': 'Mobile'...   \n",
      "3  [{'number': '5628632121', 'type': 'Office', 'p...   \n",
      "4  [{'number': '3107385433', 'type': None, 'prima...   \n",
      "\n",
      "                                      nearby_schools  \\\n",
      "0                Los Angeles Unified School District   \n",
      "1                Los Angeles Unified School District   \n",
      "2  Los Angeles Unified School District, Community...   \n",
      "3  Animo Phillis Wheatley Charter Middle District...   \n",
      "4                Los Angeles Unified School District   \n",
      "\n",
      "                                       primary_photo  \\\n",
      "0  https://ap.rdcpix.com/e69baaaae47527da2dbef5de...   \n",
      "1  https://ap.rdcpix.com/1a9533a7805cb331b01b2102...   \n",
      "2  https://ap.rdcpix.com/e107bf5286f0e83c0f8af36a...   \n",
      "3  https://ap.rdcpix.com/b1174cc7dac0f96d281ff090...   \n",
      "4  https://ap.rdcpix.com/dc384eb2c1c9b7a810304d79...   \n",
      "\n",
      "                                          alt_photos  \n",
      "0  https://ap.rdcpix.com/e69baaaae47527da2dbef5de...  \n",
      "1  https://ap.rdcpix.com/1a9533a7805cb331b01b2102...  \n",
      "2  https://ap.rdcpix.com/e107bf5286f0e83c0f8af36a...  \n",
      "3  https://ap.rdcpix.com/b1174cc7dac0f96d281ff090...  \n",
      "4  https://ap.rdcpix.com/dc384eb2c1c9b7a810304d79...  \n",
      "\n",
      "[5 rows x 64 columns]\n"
     ]
    }
   ],
   "source": [
    "import os\n",
    "import requests\n",
    "from bs4 import BeautifulSoup\n",
    "import pandas as pd\n",
    "import json\n",
    "import time\n",
    "from datetime import datetime\n",
    "from homeharvest import scrape_property\n",
    "current_timestamp = datetime.now().strftime(\"%Y%m%d_%H%M%S\")\n",
    "filename = f\"LA_HomeHarvest_{current_timestamp}.csv\"\n",
    "\n",
    "properties = scrape_property(\n",
    "  location=\"Los Angeles, CA\",\n",
    "  listing_type=\"sold\",  # or (for_sale, for_rent, pending)\n",
    "  past_days=200,\n",
    "    extra_property_data=True\n",
    "\n",
    "  # property_type=['single_family','multi_family'],\n",
    "  # date_from=\"2023-05-01\", # alternative to past_days\n",
    "  # date_to=\"2023-05-28\",\n",
    "  # foreclosure=True\n",
    "  # mls_only=True,  # only fetch MLS listings\n",
    ")\n",
    "print(f\"Number of properties: {len(properties)}\")\n",
    "\n",
    "# Export to csv\n",
    "properties.to_csv(filename, index=False)\n",
    "print(properties.head())"
   ]
  },
  {
   "cell_type": "markdown",
   "metadata": {},
   "source": [
    "# 3. Explore the Data\n",
    "Currently I have 6 Features, the address (can get neighborhood from this), price sold, sqft, # bedrooms, # bathrooms, and property type."
   ]
  },
  {
   "cell_type": "code",
   "execution_count": 4,
   "metadata": {},
   "outputs": [
    {
     "name": "stdout",
     "output_type": "stream",
     "text": [
      "                                            Address  AIN  Sold Price  \\\n",
      "0  7120 Carlson Cir UNIT 256, Canoga Park, CA 91303  NaN      380000   \n",
      "1        22410 Collins St, Woodland Hills, CA 91367  NaN     1760000   \n",
      "2                  18319 Jovan St, Reseda, CA 91335  NaN      780000   \n",
      "3          21228 Lopez St, Woodland Hills, CA 91364  NaN     1070000   \n",
      "4            4750 Poe Ave, Woodland Hills, CA 91364  NaN     2600000   \n",
      "\n",
      "   Bedrooms  Bathrooms  Area (SqFt)  Property Type  \n",
      "0       1.0        1.0        471.0          CONDO  \n",
      "1       4.0        3.0       2616.0  SINGLE_FAMILY  \n",
      "2       3.0        1.0       1398.0  SINGLE_FAMILY  \n",
      "3       4.0        2.0       1409.0  SINGLE_FAMILY  \n",
      "4       4.0        4.0       3287.0  SINGLE_FAMILY  \n"
     ]
    }
   ],
   "source": [
    "import pandas as pd\n",
    "\n",
    "df = pd.read_csv(\"zillow_sold_los_angeles.csv\")\n",
    "\n",
    "print(df.head())\n"
   ]
  },
  {
   "cell_type": "markdown",
   "metadata": {},
   "source": [
    "# 4.Prepare the Data\n",
    "\n",
    "\n",
    "Apply any data transformations and explain what and why\n"
   ]
  },
  {
   "cell_type": "markdown",
   "metadata": {},
   "source": [
    "Filled in missing values for Price, bedrooms, and bathrooms with median as to not be skewed by outliers. \n",
    "One-hot Encoded property type and neighborhoods"
   ]
  },
  {
   "cell_type": "code",
   "execution_count": 5,
   "metadata": {},
   "outputs": [
    {
     "name": "stdout",
     "output_type": "stream",
     "text": [
      "Train shape: (787, 5)\n",
      "Test shape: (197, 5)\n",
      "Files saved: train_data.csv, test_data.csv\n"
     ]
    }
   ],
   "source": [
    "import pandas as pd\n",
    "from sklearn.model_selection import train_test_split\n",
    "from sklearn.preprocessing import StandardScaler, OneHotEncoder\n",
    "from sklearn.compose import ColumnTransformer\n",
    "from sklearn.pipeline import Pipeline\n",
    "from sklearn.impute import SimpleImputer\n",
    "import re\n",
    "\n",
    "df = pd.read_csv(\"zillow_sold_los_angeles.csv\")\n",
    "\n",
    "if \"AIN\" in df.columns:\n",
    "    df = df.drop(columns=[\"AIN\"])\n",
    "\n",
    "def extract_neighborhood(address):\n",
    "    match = re.search(r\",\\s*([^,]+), CA\", address)\n",
    "    return match.group(1).strip() if match else \"Los Angeles\"\n",
    "\n",
    "df[\"Neighborhood\"] = df[\"Address\"].apply(extract_neighborhood)\n",
    "\n",
    "target = \"Sold Price\"\n",
    "X = df.drop(columns=[target, \"Address\"])\n",
    "y = df[target]\n",
    "\n",
    "numeric_features = [\"Bedrooms\", \"Bathrooms\", \"Area (SqFt)\"]\n",
    "categorical_features = [\"Property Type\", \"Neighborhood\"]\n",
    "\n",
    "\n",
    "numeric_transformer = Pipeline(steps=[\n",
    "    (\"imputer\", SimpleImputer(strategy=\"median\")),\n",
    "    (\"scaler\", StandardScaler())\n",
    "])\n",
    "\n",
    "categorical_transformer = Pipeline(steps=[\n",
    "    (\"imputer\", SimpleImputer(strategy=\"most_frequent\")),\n",
    "    (\"encoder\", OneHotEncoder(handle_unknown=\"ignore\"))\n",
    "])\n",
    "\n",
    "preprocessor = ColumnTransformer(\n",
    "    transformers=[\n",
    "        (\"num\", numeric_transformer, numeric_features),\n",
    "        (\"cat\", categorical_transformer, categorical_features)\n",
    "    ])\n",
    "\n",
    "X_train, X_test, y_train, y_test = train_test_split(X, y, test_size=0.2, random_state=42)\n",
    "\n",
    "train_data = pd.concat([X_train, y_train], axis=1)\n",
    "test_data = pd.concat([X_test, y_test], axis=1)\n",
    "\n",
    "train_data.to_csv(\"train_data.csv\", index=False)\n",
    "test_data.to_csv(\"test_data.csv\", index=False)\n",
    "\n",
    "print(\"Train shape:\", X_train.shape)\n",
    "print(\"Test shape:\", X_test.shape)\n",
    "print(\"Files saved: train_data.csv, test_data.csv\")\n"
   ]
  },
  {
   "cell_type": "markdown",
   "metadata": {},
   "source": [
    "# 5. Model the data\n",
    "Using selected ML models, experment with your choices and describe your findings. Finish by selecting a Model to continue with\n"
   ]
  },
  {
   "cell_type": "code",
   "execution_count": 10,
   "metadata": {},
   "outputs": [
    {
     "name": "stdout",
     "output_type": "stream",
     "text": [
      "Training data shape: (787, 6)\n",
      "Testing data shape: (197, 6)\n",
      "Training Random Forest model...\n",
      "Model training completed!\n",
      "Making predictions...\n",
      "\n",
      "Training Set Performance:\n",
      "  Mean Squared Error (MSE): $1,204,856,597,676.84\n",
      "  Root Mean Squared Error (RMSE): $1,097,659.60\n",
      "  Mean Absolute Error (MAE): $463,106.75\n",
      "  R² Score: 0.6170\n",
      "\n",
      "Testing Set Performance:\n",
      "  Mean Squared Error (MSE): $2,520,492,084,531.14\n",
      "  Root Mean Squared Error (RMSE): $1,587,605.77\n",
      "  Mean Absolute Error (MAE): $645,747.13\n",
      "  R² Score: 0.1440\n",
      "\n",
      "Most Important Features:\n",
      "                       Feature  Importance\n",
      "                   Area (SqFt)    0.761201\n",
      "                      Bedrooms    0.066405\n",
      "    Property Type_MULTI_FAMILY    0.053707\n",
      "      Neighborhood_Los Angeles    0.053622\n",
      "                     Bathrooms    0.031587\n",
      "   Property Type_SINGLE_FAMILY    0.012281\n",
      "Neighborhood_Pacific Palisades    0.010873\n",
      "           Property Type_CONDO    0.004348\n",
      "      Neighborhood_Canoga Park    0.003963\n",
      "       Property Type_TOWNHOUSE    0.000541\n",
      "\n",
      "Model building completed successfully!\n"
     ]
    }
   ],
   "source": [
    "import pandas as pd\n",
    "import numpy as np\n",
    "from sklearn.ensemble import RandomForestRegressor\n",
    "from sklearn.preprocessing import StandardScaler, OneHotEncoder\n",
    "from sklearn.compose import ColumnTransformer\n",
    "from sklearn.pipeline import Pipeline\n",
    "from sklearn.impute import SimpleImputer\n",
    "from sklearn.metrics import mean_squared_error, r2_score, mean_absolute_error\n",
    "import joblib\n",
    "\n",
    "\n",
    "train_data = pd.read_csv(\"train_data.csv\")\n",
    "test_data = pd.read_csv(\"test_data.csv\")\n",
    "\n",
    "print(f\"Training data shape: {train_data.shape}\")\n",
    "print(f\"Testing data shape: {test_data.shape}\")\n",
    "\n",
    "target = \"Sold Price\"\n",
    "X_train = train_data.drop(columns=[target])\n",
    "y_train = train_data[target]\n",
    "X_test = test_data.drop(columns=[target])\n",
    "y_test = test_data[target]\n",
    "\n",
    "numeric_features = [\"Bedrooms\", \"Bathrooms\", \"Area (SqFt)\"]\n",
    "categorical_features = [\"Property Type\", \"Neighborhood\"]\n",
    "\n",
    "numeric_transformer = Pipeline(steps=[\n",
    "    (\"imputer\", SimpleImputer(strategy=\"median\")),\n",
    "    (\"scaler\", StandardScaler())\n",
    "])\n",
    "\n",
    "categorical_transformer = Pipeline(steps=[\n",
    "    (\"imputer\", SimpleImputer(strategy=\"most_frequent\")),\n",
    "    (\"encoder\", OneHotEncoder(handle_unknown=\"ignore\"))\n",
    "])\n",
    "\n",
    "preprocessor = ColumnTransformer(\n",
    "    transformers=[\n",
    "        (\"num\", numeric_transformer, numeric_features),\n",
    "        (\"cat\", categorical_transformer, categorical_features)\n",
    "    ]\n",
    ")\n",
    "\n",
    "rf_model = RandomForestRegressor(\n",
    "    n_estimators=500,          \n",
    "    max_depth=7,              \n",
    "    min_samples_split=10,        \n",
    "    min_samples_leaf=5,         \n",
    "    random_state=40,            \n",
    "    n_jobs=-1                   \n",
    ")\n",
    "\n",
    "model_pipeline = Pipeline([\n",
    "    ('preprocessor', preprocessor),\n",
    "    ('regressor', rf_model)\n",
    "])\n",
    "\n",
    "print(\"Training Random Forest model...\")\n",
    "model_pipeline.fit(X_train, y_train)\n",
    "print(\"Model training completed!\")\n",
    "\n",
    "print(\"Making predictions...\")\n",
    "y_train_pred = model_pipeline.predict(X_train)\n",
    "y_test_pred = model_pipeline.predict(X_test)\n",
    "\n",
    "def calculate_metrics(y_true, y_pred, dataset_name):\n",
    "    mse = mean_squared_error(y_true, y_pred)\n",
    "    rmse = np.sqrt(mse)\n",
    "    mae = mean_absolute_error(y_true, y_pred)\n",
    "    r2 = r2_score(y_true, y_pred)\n",
    "    \n",
    "    print(f\"\\n{dataset_name} Set Performance:\")\n",
    "    print(f\"  Mean Squared Error (MSE): ${mse:,.2f}\")\n",
    "    print(f\"  Root Mean Squared Error (RMSE): ${rmse:,.2f}\")\n",
    "    print(f\"  Mean Absolute Error (MAE): ${mae:,.2f}\")\n",
    "    print(f\"  R² Score: {r2:.4f}\")\n",
    "    \n",
    "    return {\"MSE\": mse, \"RMSE\": rmse, \"MAE\": mae, \"R2\": r2}\n",
    "\n",
    "train_metrics = calculate_metrics(y_train, y_train_pred, \"Training\")\n",
    "test_metrics = calculate_metrics(y_test, y_test_pred, \"Testing\")\n",
    "\n",
    "feature_names = (numeric_features + \n",
    "                list(model_pipeline.named_steps['preprocessor']\n",
    "                    .named_transformers_['cat']\n",
    "                    .named_steps['encoder']\n",
    "                    .get_feature_names_out(categorical_features)))\n",
    "\n",
    "feature_importance = rf_model.feature_importances_\n",
    "feature_importance_df = pd.DataFrame({\n",
    "    'Feature': feature_names,\n",
    "    'Importance': feature_importance\n",
    "}).sort_values('Importance', ascending=False)\n",
    "\n",
    "print(\"\\nMost Important Features:\")\n",
    "print(feature_importance_df.head(10).to_string(index=False))\n",
    "\n",
    "print(\"\\nModel building completed successfully!\")"
   ]
  },
  {
   "cell_type": "markdown",
   "metadata": {},
   "source": [
    "# 6. Fine Tune the Model\n",
    "\n",
    "With the select model descibe the steps taken to acheve the best rusults possiable \n"
   ]
  },
  {
   "cell_type": "markdown",
   "metadata": {},
   "source": [
    "when I began i started with only 50 tress, but i realized that was too few and it was overfitting the model, so I bumped it up to 400 trees and things were fine.\n",
    "I asked chatgpt about it and it explained that with the amount of rows in the data, 200 trees was sufficient, so i stuck with that.\n",
    "\n",
    "I read that with less than 5k rows, the max depth should be 5-10, so i just chose 7 and stuck with it.\n",
    "\n",
    "I just started at 1 for the random state and started playing with it and hit 45 as the highest percentage of 82 and stuck with it, but really it doesnt\n",
    "matter, its just something used to ensure the data is reproducible."
   ]
  },
  {
   "cell_type": "markdown",
   "metadata": {},
   "source": [
    "# 7. Present\n",
    "In a customer faceing Document provide summery of finding and detail approach taken\n"
   ]
  },
  {
   "cell_type": "markdown",
   "metadata": {},
   "source": [
    "Summary of Findings and Approach\n",
    "We analyzed passenger survivability on the titanic using a dataset provided from Kaggle. Our analysis aimed to identify which factors most influenced survival and to develop a predictive model. From the data:\n",
    "Sex is the strongest predictor: Females had a roughly 75% survival rate, while males were around 20%.\n",
    "\n",
    "\n",
    "Passenger class and age are also significant: First-class passengers had a survival rate of ~63%, decreasing with lower classes, and children aged 10 and under had about a 60% chance of survival.\n",
    "\n",
    "\n",
    "Bias in survival: The data reflects historical prioritization of women, children, and wealthier passengers.\n",
    "\n",
    "\n",
    "Cleaning the data:\n",
    "Missing values were filled in\n",
    "Categorical variables were converted\n",
    "New features were created, like family size and title.\n",
    "Useless features were removed\n",
    "\n",
    "\n",
    "For modeling:\n",
    "Initial testing with logistic regression had 80% accuracy.\n",
    "Moved to Random Forest model\n",
    "Model optimization:\n",
    "\n",
    "\n",
    "Number of trees: Increased from 50 (overfitting) to 200.\n",
    "\n",
    "\n",
    "Max depth: Set to 7, as it is a small dataset\n",
    "Set a random state to make sure the results are reproduced\n",
    "Outcome: The Random Forest model gave an accuracy of approximately 82%. Therefore, it can be reliably used to predict whether a passenger will survive or not, given a new set of data..\n"
   ]
  },
  {
   "cell_type": "markdown",
   "metadata": {},
   "source": [
    "# 8. Launch the Model System\n",
    "Define your production run code, This should be self susficent and require only your model pramaters \n"
   ]
  },
  {
   "cell_type": "code",
   "execution_count": 1,
   "metadata": {},
   "outputs": [],
   "source": [
    "def inference(params):\n",
    "    params = params.reindex(columns=X.columns, fill_value=0)\n",
    "    results = model.predict(params)\n",
    "    return results"
   ]
  },
  {
   "cell_type": "code",
   "execution_count": null,
   "metadata": {},
   "outputs": [],
   "source": []
  },
  {
   "cell_type": "code",
   "execution_count": null,
   "metadata": {},
   "outputs": [],
   "source": []
  },
  {
   "cell_type": "code",
   "execution_count": null,
   "metadata": {},
   "outputs": [],
   "source": []
  }
 ],
 "metadata": {
  "kernelspec": {
   "display_name": "Python 3 (ipykernel)",
   "language": "python",
   "name": "python3"
  },
  "language_info": {
   "codemirror_mode": {
    "name": "ipython",
    "version": 3
   },
   "file_extension": ".py",
   "mimetype": "text/x-python",
   "name": "python",
   "nbconvert_exporter": "python",
   "pygments_lexer": "ipython3",
   "version": "3.10.10"
  },
  "toc-autonumbering": false,
  "toc-showmarkdowntxt": false
 },
 "nbformat": 4,
 "nbformat_minor": 4
}
